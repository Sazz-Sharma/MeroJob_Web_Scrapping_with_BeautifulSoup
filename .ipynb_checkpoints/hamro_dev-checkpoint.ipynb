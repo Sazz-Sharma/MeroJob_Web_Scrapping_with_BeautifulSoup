{
 "cells": [
  {
   "cell_type": "code",
   "execution_count": 1,
   "metadata": {},
   "outputs": [],
   "source": [
    "# Importing modules\n",
    "\n",
    "import pandas as pd\n",
    "import requests\n",
    "from bs4 import BeautifulSoup"
   ]
  },
  {
   "cell_type": "code",
   "execution_count": 78,
   "metadata": {},
   "outputs": [
    {
     "name": "stdout",
     "output_type": "stream",
     "text": [
      "80\n"
     ]
    }
   ],
   "source": [
    "\n",
    "url=\"https://hamrodevjobs.com/\"\n",
    "web_page=requests.get(url)\n",
    "soup=BeautifulSoup(web_page.content)\n",
    "ls_card_body=soup.find_all('div',class_='job-title')\n",
    "job_title=[]\n",
    "company_name=[]\n",
    "req_skill=[]\n",
    "for i in ls_card_body:\n",
    "    job_title.append(i.text)\n",
    "for i in soup.find_all('span',class_=\"mr-md-4\"):\n",
    "    company_name.append(i.text)\n",
    "# for i in soup.find_all('div',class_='badge-wrapper-mobile'):\n",
    "#     # print(\"1:\\n\")\n",
    "#     # for j in soup.find_all('span',class_='badge'):\n",
    "#     #     print(j.text)\n",
    "#     print(i)\n",
    "# for count,i in enumerate(soup.find_all('div',class_='badge-wrapper-mobile')):\n",
    "#     print(soup.find_all('div',class_='badge-wrapper-mobile')[count].find_all('span',class_='badge'))\n",
    "# for count,i in enumerate(soup.find_all('span',class_='badge')):\n",
    "#     print(i)\n",
    "    # print(i.find_all('span',class_='badge'))\n",
    "badge_wrapper=soup.find_all('div',class_='badge-wrapper-mobile')\n",
    "print(len(badge_wrapper))\n",
    "# print(badge_wrapper[1].find_all('span',class_='badge'))\n",
    "\n",
    "    \n",
    "\n"
   ]
  },
  {
   "cell_type": "code",
   "execution_count": 61,
   "metadata": {},
   "outputs": [
    {
     "name": "stdout",
     "output_type": "stream",
     "text": [
      "        techniques\n",
      "0  [java,selenium]\n",
      "1  [python, hello]\n"
     ]
    }
   ],
   "source": [
    "\n",
    "x=[['java,selenium'],['python','hello']]\n",
    "dictionary={'techniques': x}\n",
    "data_frame=pd.DataFrame(dictionary)\n",
    "print(data_frame)"
   ]
  },
  {
   "cell_type": "code",
   "execution_count": 68,
   "metadata": {},
   "outputs": [
    {
     "name": "stdout",
     "output_type": "stream",
     "text": [
      "[]\n"
     ]
    }
   ],
   "source": []
  },
  {
   "cell_type": "code",
   "execution_count": null,
   "metadata": {},
   "outputs": [],
   "source": []
  }
 ],
 "metadata": {
  "kernelspec": {
   "display_name": "Python 3 (ipykernel)",
   "language": "python",
   "name": "python3"
  },
  "language_info": {
   "codemirror_mode": {
    "name": "ipython",
    "version": 3
   },
   "file_extension": ".py",
   "mimetype": "text/x-python",
   "name": "python",
   "nbconvert_exporter": "python",
   "pygments_lexer": "ipython3",
   "version": "3.11.1"
  }
 },
 "nbformat": 4,
 "nbformat_minor": 2
}
