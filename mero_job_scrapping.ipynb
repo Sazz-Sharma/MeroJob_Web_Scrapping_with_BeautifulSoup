{
 "cells": [
  {
   "cell_type": "code",
   "execution_count": 43,
   "id": "4bb3ac43",
   "metadata": {},
   "outputs": [],
   "source": [
    "from bs4 import BeautifulSoup\n",
    "import pandas as pd\n",
    "import requests\n",
    "import numpy as np"
   ]
  },
  {
   "cell_type": "markdown",
   "id": "71d7ccca",
   "metadata": {},
   "source": [
    "# Analyzing how the webpage of 'merojob' of was built"
   ]
  },
  {
   "cell_type": "code",
   "execution_count": 74,
   "id": "da261856",
   "metadata": {},
   "outputs": [],
   "source": [
    "url ='https://merojob.com/search/?page=1'\n",
    "response = requests.get(url)\n",
    "soup = BeautifulSoup(response.content, 'html.parser')\n",
    "# print(soup.prettify())"
   ]
  },
  {
   "cell_type": "markdown",
   "id": "4f69ecd3",
   "metadata": {},
   "source": [
    "# Actual Scrapping"
   ]
  },
  {
   "cell_type": "code",
   "execution_count": 44,
   "id": "0ab3367b",
   "metadata": {},
   "outputs": [],
   "source": [
    "job_title=[]\n",
    "company_name=[]\n",
    "company_location=[]\n",
    "skill_req=[]\n",
    "number_of_pages = 45\n",
    "for i in range(1, number_of_pages + 1):\n",
    "    url='https://merojob.com/search/?page={0}'.format(i)\n",
    "    response = requests.get(url)\n",
    "    soup=BeautifulSoup(response.content, 'html.parser')\n",
    "    cards=soup.find_all(class_='card mt-3 hover-shadow')\n",
    "    for items in cards:\n",
    "        job_title.append(items.find('h1').text.strip('\\n'))\n",
    "    for items in cards:\n",
    "        company_name.append(items.find('h3').text.strip('\\n'))\n",
    "    for items in cards:\n",
    "        try:\n",
    "            new_ls=[]\n",
    "            for locations in items.find_all('span', itemprop='addressLocality'):\n",
    "                new_ls.append(locations.text)\n",
    "            company_location.append(new_ls)\n",
    "        except:\n",
    "            company_location.append(np.nan)\n",
    "    for items in cards:\n",
    "        skill_ls=[]\n",
    "        for skills in items.find_all('span', class_='badge badge-pill badge-light rounded text-muted'):\n",
    "            skill_ls.append(skills.text)\n",
    "        skill_req.append(skill_ls)\n",
    "        \n"
   ]
  },
  {
   "cell_type": "code",
   "execution_count": 4,
   "id": "0a52187a",
   "metadata": {},
   "outputs": [],
   "source": [
    "pd.set_option('display.max_rows', None)"
   ]
  },
  {
   "cell_type": "code",
   "execution_count": 45,
   "id": "0269f969",
   "metadata": {},
   "outputs": [],
   "source": [
    "\n",
    "temp_df={'Job Title': job_title,\n",
    "     'Company': company_name,\n",
    "     'Location': company_location,\n",
    "    'Skills': skill_req\n",
    "    }"
   ]
  },
  {
   "cell_type": "code",
   "execution_count": 62,
   "id": "d4ecedfb",
   "metadata": {},
   "outputs": [],
   "source": [
    "##Converting the scrapped data into pandas dataframe\n",
    "df = pd.DataFrame(temp_df)"
   ]
  },
  {
   "cell_type": "code",
   "execution_count": 63,
   "id": "156a9df2",
   "metadata": {},
   "outputs": [],
   "source": [
    "df['Location'] = df['Location'].apply(lambda x: np.nan if len(x)==0 else x)\n"
   ]
  },
  {
   "cell_type": "code",
   "execution_count": 65,
   "id": "e573628d",
   "metadata": {},
   "outputs": [],
   "source": [
    "df['Skills'] = df['Skills'].apply(lambda x: np.nan if len(x)==0 else x)"
   ]
  },
  {
   "cell_type": "code",
   "execution_count": 72,
   "id": "4593f6aa",
   "metadata": {},
   "outputs": [
    {
     "data": {
      "text/html": [
       "<div>\n",
       "<style scoped>\n",
       "    .dataframe tbody tr th:only-of-type {\n",
       "        vertical-align: middle;\n",
       "    }\n",
       "\n",
       "    .dataframe tbody tr th {\n",
       "        vertical-align: top;\n",
       "    }\n",
       "\n",
       "    .dataframe thead th {\n",
       "        text-align: right;\n",
       "    }\n",
       "</style>\n",
       "<table border=\"1\" class=\"dataframe\">\n",
       "  <thead>\n",
       "    <tr style=\"text-align: right;\">\n",
       "      <th></th>\n",
       "      <th>Job Title</th>\n",
       "      <th>Company</th>\n",
       "      <th>Location</th>\n",
       "      <th>Skills</th>\n",
       "    </tr>\n",
       "  </thead>\n",
       "  <tbody>\n",
       "    <tr>\n",
       "      <th>0</th>\n",
       "      <td>Finance Manager</td>\n",
       "      <td>Srijanshil Mahila Bikas Bahudesiya Sahakari</td>\n",
       "      <td>[Kathmandu, Nepal]</td>\n",
       "      <td>[Financial Forecasting, Problem-Solving Skills...</td>\n",
       "    </tr>\n",
       "    <tr>\n",
       "      <th>1</th>\n",
       "      <td>Front Desk Officer</td>\n",
       "      <td>A One Global Consultants</td>\n",
       "      <td>[1st Floor, Samsung Plaza, Bijulubazar, Kathma...</td>\n",
       "      <td>[Interpersonal Skills, Administration, Communi...</td>\n",
       "    </tr>\n",
       "    <tr>\n",
       "      <th>2</th>\n",
       "      <td>Inventory Intern</td>\n",
       "      <td>Karkhana</td>\n",
       "      <td>[Kathmandu]</td>\n",
       "      <td>[Interpersonal Skills, Communication]</td>\n",
       "    </tr>\n",
       "    <tr>\n",
       "      <th>3</th>\n",
       "      <td>Inventory Lead</td>\n",
       "      <td>Karkhana</td>\n",
       "      <td>[Kathmandu]</td>\n",
       "      <td>[Interpersonal Skills, Communication]</td>\n",
       "    </tr>\n",
       "    <tr>\n",
       "      <th>4</th>\n",
       "      <td>Python/Django Developer</td>\n",
       "      <td>Merojob</td>\n",
       "      <td>NaN</td>\n",
       "      <td>[Html, Css, Javascript, Programming Language, ...</td>\n",
       "    </tr>\n",
       "  </tbody>\n",
       "</table>\n",
       "</div>"
      ],
      "text/plain": [
       "                 Job Title                                      Company  \\\n",
       "0          Finance Manager  Srijanshil Mahila Bikas Bahudesiya Sahakari   \n",
       "1       Front Desk Officer                     A One Global Consultants   \n",
       "2         Inventory Intern                                     Karkhana   \n",
       "3           Inventory Lead                                     Karkhana   \n",
       "4  Python/Django Developer                                      Merojob   \n",
       "\n",
       "                                            Location  \\\n",
       "0                                 [Kathmandu, Nepal]   \n",
       "1  [1st Floor, Samsung Plaza, Bijulubazar, Kathma...   \n",
       "2                                        [Kathmandu]   \n",
       "3                                        [Kathmandu]   \n",
       "4                                                NaN   \n",
       "\n",
       "                                              Skills  \n",
       "0  [Financial Forecasting, Problem-Solving Skills...  \n",
       "1  [Interpersonal Skills, Administration, Communi...  \n",
       "2              [Interpersonal Skills, Communication]  \n",
       "3              [Interpersonal Skills, Communication]  \n",
       "4  [Html, Css, Javascript, Programming Language, ...  "
      ]
     },
     "execution_count": 72,
     "metadata": {},
     "output_type": "execute_result"
    }
   ],
   "source": [
    "df.head()"
   ]
  },
  {
   "cell_type": "code",
   "execution_count": 69,
   "id": "93dadc54",
   "metadata": {},
   "outputs": [
    {
     "data": {
      "text/html": [
       "<div>\n",
       "<style scoped>\n",
       "    .dataframe tbody tr th:only-of-type {\n",
       "        vertical-align: middle;\n",
       "    }\n",
       "\n",
       "    .dataframe tbody tr th {\n",
       "        vertical-align: top;\n",
       "    }\n",
       "\n",
       "    .dataframe thead th {\n",
       "        text-align: right;\n",
       "    }\n",
       "</style>\n",
       "<table border=\"1\" class=\"dataframe\">\n",
       "  <thead>\n",
       "    <tr style=\"text-align: right;\">\n",
       "      <th></th>\n",
       "      <th>Job Title</th>\n",
       "      <th>Company</th>\n",
       "      <th>Location</th>\n",
       "      <th>Skills</th>\n",
       "    </tr>\n",
       "  </thead>\n",
       "  <tbody>\n",
       "    <tr>\n",
       "      <th>count</th>\n",
       "      <td>234</td>\n",
       "      <td>234</td>\n",
       "      <td>215</td>\n",
       "      <td>173</td>\n",
       "    </tr>\n",
       "    <tr>\n",
       "      <th>unique</th>\n",
       "      <td>210</td>\n",
       "      <td>154</td>\n",
       "      <td>109</td>\n",
       "      <td>160</td>\n",
       "    </tr>\n",
       "    <tr>\n",
       "      <th>top</th>\n",
       "      <td>Accountant</td>\n",
       "      <td>Nepal Clearing House</td>\n",
       "      <td>[Kathmandu]</td>\n",
       "      <td>[Interpersonal Skills, Communication]</td>\n",
       "    </tr>\n",
       "    <tr>\n",
       "      <th>freq</th>\n",
       "      <td>5</td>\n",
       "      <td>10</td>\n",
       "      <td>41</td>\n",
       "      <td>6</td>\n",
       "    </tr>\n",
       "  </tbody>\n",
       "</table>\n",
       "</div>"
      ],
      "text/plain": [
       "         Job Title               Company     Location  \\\n",
       "count          234                   234          215   \n",
       "unique         210                   154          109   \n",
       "top     Accountant  Nepal Clearing House  [Kathmandu]   \n",
       "freq             5                    10           41   \n",
       "\n",
       "                                       Skills  \n",
       "count                                     173  \n",
       "unique                                    160  \n",
       "top     [Interpersonal Skills, Communication]  \n",
       "freq                                        6  "
      ]
     },
     "execution_count": 69,
     "metadata": {},
     "output_type": "execute_result"
    }
   ],
   "source": [
    "df.describe()"
   ]
  },
  {
   "cell_type": "markdown",
   "id": "ab3278ed",
   "metadata": {},
   "source": [
    "# Little bit inefficient\n"
   ]
  },
  {
   "cell_type": "code",
   "execution_count": 79,
   "id": "fe5a5d05",
   "metadata": {},
   "outputs": [],
   "source": [
    "# find_all('span', itemprop='addressLocality')\n",
    "# company_name=''\n",
    "# for count, items in enumerate(cards[5].find_all('span', itemprop='addressLocality')):\n",
    "#     if count==0:\n",
    "#         company_name=company_name + items.text\n",
    "#         continue\n",
    "#     else:\n",
    "#         company_name = company_name + ',' + items.text\n",
    "# urlCheck='https://merojob.com/search/?page=1'\n",
    "# responseCheck=requests.get(urlCheck)\n",
    "# soup=BeautifulSoup(responseCheck.content)\n",
    "# cards=soup.find_all('div', class_='card mt-3 hover-shadow')\n",
    "# skill_ls=[]\n",
    "# # for items in cards:\n",
    "# #     try:\n",
    "# #   \n",
    "#       if len(items.find('span', itemprop='skills'))==0:\n",
    "# #             skill_ls.append(None)\n",
    "# #         else:\n",
    "# #             to_be_append=[]\n",
    "# #             for skills in items.find_all('span', class_='badge'):\n",
    "# #                 to_be_append.append(skills.text.strip('\\n'))\n",
    "# #         skill_ls.append(to_be_append)\n",
    "# #     except:\n",
    "# #         skill_ls.append(None)\n",
    "# skill_req=[]\n",
    "# for items in cards:\n",
    "#     skill_ls=[]\n",
    "#     for skills in items.find_all('span', class_='badge badge-pill badge-light rounded text-muted'):\n",
    "#         skill_ls.append(skills.text)\n",
    "#     skill_req.append(skill_ls)"
   ]
  },
  {
   "cell_type": "code",
   "execution_count": null,
   "id": "5ce134c8",
   "metadata": {},
   "outputs": [],
   "source": []
  }
 ],
 "metadata": {
  "kernelspec": {
   "display_name": "Python 3 (ipykernel)",
   "language": "python",
   "name": "python3"
  },
  "language_info": {
   "codemirror_mode": {
    "name": "ipython",
    "version": 3
   },
   "file_extension": ".py",
   "mimetype": "text/x-python",
   "name": "python",
   "nbconvert_exporter": "python",
   "pygments_lexer": "ipython3",
   "version": "3.11.1"
  }
 },
 "nbformat": 4,
 "nbformat_minor": 5
}
